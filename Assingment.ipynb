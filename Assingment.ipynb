{
  "nbformat": 4,
  "nbformat_minor": 0,
  "metadata": {
    "colab": {
      "provenance": [],
      "authorship_tag": "ABX9TyMMI7JvQnnPWkMsaKhGBGJz",
      "include_colab_link": true
    },
    "kernelspec": {
      "name": "python3",
      "display_name": "Python 3"
    },
    "language_info": {
      "name": "python"
    }
  },
  "cells": [
    {
      "cell_type": "markdown",
      "metadata": {
        "id": "view-in-github",
        "colab_type": "text"
      },
      "source": [
        "<a href=\"https://colab.research.google.com/github/Khagendra-12/Assingment_PythonBasics/blob/main/Assingment.ipynb\" target=\"_parent\"><img src=\"https://colab.research.google.com/assets/colab-badge.svg\" alt=\"Open In Colab\"/></a>"
      ]
    },
    {
      "cell_type": "markdown",
      "source": [
        "# **Q1.** L is a list defined as L= [11, 12, 13, 14].\n",
        "\n",
        "\n"
      ],
      "metadata": {
        "id": "Q1w7b-1iGvzk"
      }
    },
    {
      "cell_type": "markdown",
      "source": [
        "1.   WAP to add 50 and 60 to L."
      ],
      "metadata": {
        "id": "EY_48O1gTUda"
      }
    },
    {
      "cell_type": "code",
      "source": [
        "import math as m\n",
        "L = [11, 12, 13, 14]\n",
        "print(f\"Orignal list: {L}\")\n",
        "L.append(15)\n",
        "print(f\"Add 15 to list: {L}\")\n",
        "L.append(16)\n",
        "print(f\"Add 16 to list: {L}\")"
      ],
      "metadata": {
        "colab": {
          "base_uri": "https://localhost:8080/"
        },
        "id": "vtrbhbM29rV7",
        "outputId": "b52fcdf9-c3d6-49d3-bfb8-c0d803dfa75e"
      },
      "execution_count": null,
      "outputs": [
        {
          "output_type": "stream",
          "name": "stdout",
          "text": [
            "Orignal list: [11, 12, 13, 14]\n",
            "Add 15 to list: [11, 12, 13, 14, 15]\n",
            "Add 16 to list: [11, 12, 13, 14, 15, 16]\n"
          ]
        }
      ]
    },
    {
      "cell_type": "markdown",
      "source": [
        "2.   WAP to remove 11 and 13from L.\n"
      ],
      "metadata": {
        "id": "JhXF00thByjI"
      }
    },
    {
      "cell_type": "code",
      "source": [
        "try:\n",
        "  L.remove(11)\n",
        "  print(f\"List after removal of 11: {L}\")\n",
        "except ValueError:\n",
        "  print(\"11 is not in the list.\")\n",
        "try:\n",
        "  L.remove(13)\n",
        "  print(f\"List after removal of 13: {L}\")\n",
        "except ValueError:\n",
        "  print(\"13 is not in the list.\")"
      ],
      "metadata": {
        "colab": {
          "base_uri": "https://localhost:8080/"
        },
        "id": "O02iTXSI-vnk",
        "outputId": "ecd0b5a0-3eb6-443c-a5d1-8cf79fb261a2"
      },
      "execution_count": null,
      "outputs": [
        {
          "output_type": "stream",
          "name": "stdout",
          "text": [
            "List after removal of 11: [12, 13, 14, 15, 16]\n",
            "List after removal of 13: [12, 14, 15, 16]\n"
          ]
        }
      ]
    },
    {
      "cell_type": "markdown",
      "source": [
        "\n",
        "3.   WAP to sort L in ascending order.\n"
      ],
      "metadata": {
        "id": "PkPtJS02B4VV"
      }
    },
    {
      "cell_type": "code",
      "source": [
        "L.sort()\n",
        "print(f\"List ascending: {L}\")"
      ],
      "metadata": {
        "colab": {
          "base_uri": "https://localhost:8080/"
        },
        "id": "iTc78Lna_azQ",
        "outputId": "35a863ae-ea97-4faf-fe42-fccf87bff075"
      },
      "execution_count": null,
      "outputs": [
        {
          "output_type": "stream",
          "name": "stdout",
          "text": [
            "List ascending: [12, 14, 15, 16]\n"
          ]
        }
      ]
    },
    {
      "cell_type": "markdown",
      "source": [
        "4.   WAP to sort L in descending order.\n"
      ],
      "metadata": {
        "id": "Mj0EJb8NCEy7"
      }
    },
    {
      "cell_type": "code",
      "source": [
        "L.sort(reverse= True)\n",
        "print(f\"List descending: {L}\")"
      ],
      "metadata": {
        "colab": {
          "base_uri": "https://localhost:8080/"
        },
        "id": "ot2fxqau_duL",
        "outputId": "d41cdef4-de49-4f84-b429-014acad70f99"
      },
      "execution_count": null,
      "outputs": [
        {
          "output_type": "stream",
          "name": "stdout",
          "text": [
            "List descending: [16, 15, 14, 12]\n"
          ]
        }
      ]
    },
    {
      "cell_type": "markdown",
      "source": [
        "5.   WAP to search for 13 in L.\n"
      ],
      "metadata": {
        "id": "OJJgxgIBCHLY"
      }
    },
    {
      "cell_type": "code",
      "source": [
        "try:\n",
        "  L.index(13)\n",
        "  print(f\"Index of 13 in the list: {L}\")\n",
        "except ValueError:\n",
        "  print(\"13 is not in the list.\")"
      ],
      "metadata": {
        "colab": {
          "base_uri": "https://localhost:8080/"
        },
        "id": "F8sqlTtQ_ggn",
        "outputId": "3a738e0d-ef5e-409f-ca81-0f61e68673f3"
      },
      "execution_count": null,
      "outputs": [
        {
          "output_type": "stream",
          "name": "stdout",
          "text": [
            "13 is not in the list.\n"
          ]
        }
      ]
    },
    {
      "cell_type": "markdown",
      "source": [
        "6.   WAP to count the number of elements present in L.\n"
      ],
      "metadata": {
        "id": "8TA0xd34CJyq"
      }
    },
    {
      "cell_type": "code",
      "source": [
        "print(f\"Length of L: {len(L)}\")"
      ],
      "metadata": {
        "colab": {
          "base_uri": "https://localhost:8080/"
        },
        "id": "u7iB2a6K_xcO",
        "outputId": "700e4092-27c1-436f-dfb2-9ae121411548"
      },
      "execution_count": null,
      "outputs": [
        {
          "output_type": "stream",
          "name": "stdout",
          "text": [
            "Length of L: 4\n"
          ]
        }
      ]
    },
    {
      "cell_type": "markdown",
      "source": [
        "7.   WAP to sum all the elements in L.\n"
      ],
      "metadata": {
        "id": "fAtO2KwFCMPq"
      }
    },
    {
      "cell_type": "code",
      "source": [
        "s=0\n",
        "for i in L:\n",
        "    s += i\n",
        "print(f\"Sum of all elements of L: {s}\")"
      ],
      "metadata": {
        "colab": {
          "base_uri": "https://localhost:8080/"
        },
        "id": "AGXBVjjM__10",
        "outputId": "8b748652-1e4e-4f48-d227-bdeab5535690"
      },
      "execution_count": null,
      "outputs": [
        {
          "output_type": "stream",
          "name": "stdout",
          "text": [
            "Sum of all elements of L: 57\n"
          ]
        }
      ]
    },
    {
      "cell_type": "markdown",
      "source": [
        "8.   WAP to sum all ODD numbers in L.\n"
      ],
      "metadata": {
        "id": "BxV8kjklCObm"
      }
    },
    {
      "cell_type": "code",
      "source": [
        "os=0\n",
        "for i in L:\n",
        "  if i % 2 != 0:\n",
        "    os += i\n",
        "print(f\"Sum of all ODD elements of L: {os}\")"
      ],
      "metadata": {
        "colab": {
          "base_uri": "https://localhost:8080/"
        },
        "id": "vx5vsl9RAMGs",
        "outputId": "ad8b72ff-b25a-40e3-ebe7-62cef2f6d5f0"
      },
      "execution_count": null,
      "outputs": [
        {
          "output_type": "stream",
          "name": "stdout",
          "text": [
            "Sum of all ODD elements of L: 15\n"
          ]
        }
      ]
    },
    {
      "cell_type": "markdown",
      "source": [
        "9.   WAP to sum all EVEN numbers in L.\n"
      ],
      "metadata": {
        "id": "cfj2kf3qCQb_"
      }
    },
    {
      "cell_type": "code",
      "source": [
        "es=0\n",
        "for i in L:\n",
        "  if i % 2 == 0:\n",
        "    es += i\n",
        "print(f\"Sum of all EVEN elements of L: {es}\")"
      ],
      "metadata": {
        "colab": {
          "base_uri": "https://localhost:8080/"
        },
        "id": "R1pPpOxPAU16",
        "outputId": "76821e5a-7710-4d1c-b297-8d2c2b33e8b1"
      },
      "execution_count": null,
      "outputs": [
        {
          "output_type": "stream",
          "name": "stdout",
          "text": [
            "Sum of all EVEN elements of L: 42\n"
          ]
        }
      ]
    },
    {
      "cell_type": "markdown",
      "source": [
        "10.  WAP to sum all PRIME numbers in L.\n"
      ],
      "metadata": {
        "id": "TdOfTOd7CTro"
      }
    },
    {
      "cell_type": "code",
      "source": [
        "ps=0\n",
        "\n",
        "def pn(n):\n",
        "    if n < 2:\n",
        "        return False\n",
        "    for x in range(2, int(m.sqrt(n)) + 1):\n",
        "        if n % x == 0:\n",
        "            return False\n",
        "    return True\n",
        "\n",
        "for i in L:\n",
        "  if pn(i):\n",
        "    ps += i\n",
        "print(f\"Sum of all PRIME elements of L: {ps}\")"
      ],
      "metadata": {
        "colab": {
          "base_uri": "https://localhost:8080/"
        },
        "id": "svCO5rjMAaGW",
        "outputId": "951c8f9f-e8b2-4a9e-dcf2-7bf9eaf7b527"
      },
      "execution_count": null,
      "outputs": [
        {
          "output_type": "stream",
          "name": "stdout",
          "text": [
            "Sum of all PRIME elements of L: 0\n"
          ]
        }
      ]
    },
    {
      "cell_type": "markdown",
      "source": [
        "11.  WAP to clear all the elements in L.\n"
      ],
      "metadata": {
        "id": "ILuoWQtfCWCg"
      }
    },
    {
      "cell_type": "code",
      "source": [
        "L.clear()\n",
        "print(f\"L after getting cleared: {L}\")"
      ],
      "metadata": {
        "colab": {
          "base_uri": "https://localhost:8080/"
        },
        "id": "gKx0xexQAvIK",
        "outputId": "cbc0be2d-6363-4319-d50c-5d4a7da9ad5a"
      },
      "execution_count": null,
      "outputs": [
        {
          "output_type": "stream",
          "name": "stdout",
          "text": [
            "L after getting cleared: []\n"
          ]
        }
      ]
    },
    {
      "cell_type": "markdown",
      "source": [
        "12.  WAP to delete L."
      ],
      "metadata": {
        "id": "cxnXBCZkCX8c"
      }
    },
    {
      "cell_type": "code",
      "source": [
        "del L\n",
        "try:\n",
        "    print(f\"L after deletion: {L}\")\n",
        "except NameError:\n",
        "    print(\"L is deleted and no longer exists.\")"
      ],
      "metadata": {
        "colab": {
          "base_uri": "https://localhost:8080/"
        },
        "id": "atMZOnRXIzXk",
        "outputId": "4609b8f8-6bcb-46cf-cfce-1c7c57b4c768"
      },
      "execution_count": null,
      "outputs": [
        {
          "output_type": "stream",
          "name": "stdout",
          "text": [
            "L is deleted and no longer exists.\n"
          ]
        }
      ]
    },
    {
      "cell_type": "markdown",
      "source": [
        "# **Q2**. D is a dictionary defined as D= {1:5.6, 2:7.8, 3:6.6, 4:8.7, 5:7.7}.\n",
        "\n",
        "\n"
      ],
      "metadata": {
        "id": "W0mnzt-aUKkX"
      }
    },
    {
      "cell_type": "markdown",
      "source": [
        "1.   WAP to add new entry in D; key=8 and value is 8.8"
      ],
      "metadata": {
        "id": "upHkWcToTYrd"
      }
    },
    {
      "cell_type": "code",
      "source": [
        "D = {1: 5.6, 2: 7.8, 3: 6.6, 4: 8.7, 5: 7.7}\n",
        "D[8] = 8.8\n",
        "print(f\"After adding key=8: {D}\")"
      ],
      "metadata": {
        "colab": {
          "base_uri": "https://localhost:8080/"
        },
        "id": "hh4GNMEDUvK_",
        "outputId": "1ec79b94-378c-4705-a502-590306679722"
      },
      "execution_count": null,
      "outputs": [
        {
          "output_type": "stream",
          "name": "stdout",
          "text": [
            "After adding key=8: {1: 5.6, 2: 7.8, 3: 6.6, 4: 8.7, 5: 7.7, 8: 8.8}\n"
          ]
        }
      ]
    },
    {
      "cell_type": "markdown",
      "source": [
        "2.   WAP to remove key=2.\n"
      ],
      "metadata": {
        "id": "lBydIHn3FK-3"
      }
    },
    {
      "cell_type": "code",
      "source": [
        "D.pop(2)\n",
        "print(f\"After removing key=2: {D}\")"
      ],
      "metadata": {
        "colab": {
          "base_uri": "https://localhost:8080/"
        },
        "id": "HARX5-6iDD7G",
        "outputId": "fce25c41-71fd-418d-c6dc-bd68fd2afb04"
      },
      "execution_count": null,
      "outputs": [
        {
          "output_type": "stream",
          "name": "stdout",
          "text": [
            "After removing key=2: {1: 5.6, 3: 6.6, 4: 8.7, 5: 7.7, 8: 8.8}\n"
          ]
        }
      ]
    },
    {
      "cell_type": "markdown",
      "source": [
        "3.   WAP to check weather 6 key is present in D.\n"
      ],
      "metadata": {
        "id": "AyOeV87jFNhw"
      }
    },
    {
      "cell_type": "code",
      "source": [
        "if 6 in D:\n",
        "  print(\"6 is present in D.\")\n",
        "else:\n",
        "  print(\"6 is not present in D.\")"
      ],
      "metadata": {
        "colab": {
          "base_uri": "https://localhost:8080/"
        },
        "id": "f8lZrBvUDTbB",
        "outputId": "d1cae738-95e8-49a4-b415-0a5842d26138"
      },
      "execution_count": null,
      "outputs": [
        {
          "output_type": "stream",
          "name": "stdout",
          "text": [
            "6 is not present in D.\n"
          ]
        }
      ]
    },
    {
      "cell_type": "markdown",
      "source": [
        "4.   WAP to count the number of elements present in D.\n"
      ],
      "metadata": {
        "id": "ankqEn-gFPhF"
      }
    },
    {
      "cell_type": "code",
      "source": [
        "print(f\"The number of elements present in D is {len(D)}\")"
      ],
      "metadata": {
        "colab": {
          "base_uri": "https://localhost:8080/"
        },
        "id": "VdQsRJzMEVdo",
        "outputId": "387f7896-8495-49a4-8562-61fbc44c56cc"
      },
      "execution_count": null,
      "outputs": [
        {
          "output_type": "stream",
          "name": "stdout",
          "text": [
            "The number of elements present in D is 5\n"
          ]
        }
      ]
    },
    {
      "cell_type": "markdown",
      "source": [
        "5.   WAP to add all the values present D.\n"
      ],
      "metadata": {
        "id": "lbUyGvsNFRm4"
      }
    },
    {
      "cell_type": "code",
      "source": [
        "print(f\"Sum of all values in D: {sum(D.values())}\")"
      ],
      "metadata": {
        "colab": {
          "base_uri": "https://localhost:8080/"
        },
        "id": "PyYzXiLzEhWn",
        "outputId": "fae84015-dcb0-4b89-c969-8b007a0df8ba"
      },
      "execution_count": null,
      "outputs": [
        {
          "output_type": "stream",
          "name": "stdout",
          "text": [
            "Sum of all values in D: 37.4\n"
          ]
        }
      ]
    },
    {
      "cell_type": "markdown",
      "source": [
        "6.   WAP to update the value of 3 to 7.1.\n"
      ],
      "metadata": {
        "id": "Pz-wFuwWFUjs"
      }
    },
    {
      "cell_type": "code",
      "source": [
        "D[3] = 7.1\n",
        "print(f\"After updating value of 3 to 7.1: {D}\")"
      ],
      "metadata": {
        "colab": {
          "base_uri": "https://localhost:8080/"
        },
        "id": "DcuTDU40Eoxx",
        "outputId": "b962b1a1-5966-423a-a9b1-4a39d5b1cb20"
      },
      "execution_count": null,
      "outputs": [
        {
          "output_type": "stream",
          "name": "stdout",
          "text": [
            "After updating value of 3 to 7.1: {1: 5.6, 3: 7.1, 4: 8.7, 5: 7.7, 8: 8.8}\n"
          ]
        }
      ]
    },
    {
      "cell_type": "markdown",
      "source": [
        "7.   WAP to clear the dictionary."
      ],
      "metadata": {
        "id": "93sRBaZnFWMP"
      }
    },
    {
      "cell_type": "code",
      "source": [
        "D.clear()\n",
        "print(f\"D after getting cleared: {D}\")"
      ],
      "metadata": {
        "colab": {
          "base_uri": "https://localhost:8080/"
        },
        "id": "SHN02uEUEx2n",
        "outputId": "8fe712e3-9ff1-4df1-c44c-2cf305fa52eb"
      },
      "execution_count": null,
      "outputs": [
        {
          "output_type": "stream",
          "name": "stdout",
          "text": [
            "D after getting cleared: {}\n"
          ]
        }
      ]
    },
    {
      "cell_type": "markdown",
      "source": [
        "# **Q3. S1 is a set defined as S1= [10, 20, 30, 40, 50, 60].**\n",
        "\n",
        "#**S2 is a set defined as S2= [40, 50, 60, 70, 80, 90].**\n",
        "\n",
        "\n",
        "\n",
        "\n",
        "\n"
      ],
      "metadata": {
        "id": "cU5Z54aXHyL7"
      }
    },
    {
      "cell_type": "markdown",
      "source": [
        "1.   WAP to add 55 and 66 in Set S1."
      ],
      "metadata": {
        "id": "jIPp2dx6TeKI"
      }
    },
    {
      "cell_type": "code",
      "source": [
        "S1 = set([10, 20, 30, 40, 50, 60])\n",
        "S2 = set([40, 50, 60, 70, 80, 90])\n",
        "S1.add(55)\n",
        "S1.add(66)\n",
        "print(f\"After adding 55 and 66 to S1: {S1}\")\n"
      ],
      "metadata": {
        "colab": {
          "base_uri": "https://localhost:8080/"
        },
        "id": "LbuqS2BLJEI9",
        "outputId": "a1ccb5d9-33aa-4065-c7b0-4cb17aa41397"
      },
      "execution_count": null,
      "outputs": [
        {
          "output_type": "stream",
          "name": "stdout",
          "text": [
            "After adding 55 and 66 to S1: {66, 40, 10, 50, 20, 55, 60, 30}\n"
          ]
        }
      ]
    },
    {
      "cell_type": "markdown",
      "source": [
        "2.   WAP to remove 10 and 30 from Set S1.\n"
      ],
      "metadata": {
        "id": "YAC3yIDKKDpC"
      }
    },
    {
      "cell_type": "code",
      "source": [
        "S1.remove(10)\n",
        "S1.remove(30)\n",
        "print(f\"After removing 10 and 30 from S1: {S1}\")"
      ],
      "metadata": {
        "colab": {
          "base_uri": "https://localhost:8080/"
        },
        "id": "eFqqQno1JU7v",
        "outputId": "64c8423f-1d05-4f32-cebf-c3bdab2fd73f"
      },
      "execution_count": null,
      "outputs": [
        {
          "output_type": "stream",
          "name": "stdout",
          "text": [
            "After removing 10 and 30 from S1: {66, 40, 50, 20, 55, 60}\n"
          ]
        }
      ]
    },
    {
      "cell_type": "markdown",
      "source": [
        "3.   WAP to check whether 40 is present in S1.\n"
      ],
      "metadata": {
        "id": "HZHN46SYKF5W"
      }
    },
    {
      "cell_type": "code",
      "source": [
        "if 40 in S1:\n",
        "  print(\"40 is present in S1.\")\n",
        "else:\n",
        "  print(\"40 is not present in S1.\")"
      ],
      "metadata": {
        "colab": {
          "base_uri": "https://localhost:8080/"
        },
        "id": "8WsRY-1IJcrw",
        "outputId": "09a3ca78-13f2-490d-e78c-f93873d7fb68"
      },
      "execution_count": null,
      "outputs": [
        {
          "output_type": "stream",
          "name": "stdout",
          "text": [
            "40 is present in S1.\n"
          ]
        }
      ]
    },
    {
      "cell_type": "markdown",
      "source": [
        "4.   WAP to find the union between S1 and S2.\n"
      ],
      "metadata": {
        "id": "8f0n2bywKH7k"
      }
    },
    {
      "cell_type": "code",
      "source": [
        "print(f\"Union of S1 and S2: {S1.union(S2)}\")"
      ],
      "metadata": {
        "colab": {
          "base_uri": "https://localhost:8080/"
        },
        "id": "EhJ8v74_JvBI",
        "outputId": "1f02f385-63d2-4bc7-f2a8-731c9d9a0e56"
      },
      "execution_count": null,
      "outputs": [
        {
          "output_type": "stream",
          "name": "stdout",
          "text": [
            "Union of S1 and S2: {66, 70, 40, 80, 50, 20, 55, 90, 60}\n"
          ]
        }
      ]
    },
    {
      "cell_type": "markdown",
      "source": [
        "5.  WAP to find the intersection between S1 and S2.\n"
      ],
      "metadata": {
        "id": "WFriROsFKKKO"
      }
    },
    {
      "cell_type": "code",
      "source": [
        "print(f\"Intersection of S1 and S2: {S1.intersection(S2)}\")"
      ],
      "metadata": {
        "colab": {
          "base_uri": "https://localhost:8080/"
        },
        "id": "E7oyujLZJ13b",
        "outputId": "b5a90944-90b6-4ee0-9941-bd3dffb1cc6b"
      },
      "execution_count": null,
      "outputs": [
        {
          "output_type": "stream",
          "name": "stdout",
          "text": [
            "Intersection of S1 and S2: {40, 50, 60}\n"
          ]
        }
      ]
    },
    {
      "cell_type": "markdown",
      "source": [
        "6.   WAP to find the S1 - S2."
      ],
      "metadata": {
        "id": "JLvFI-zpKRt1"
      }
    },
    {
      "cell_type": "code",
      "source": [
        "print(f\"S1-S2: {S1.difference(S2)}\")"
      ],
      "metadata": {
        "colab": {
          "base_uri": "https://localhost:8080/"
        },
        "id": "Z5Ax2e1_J6jO",
        "outputId": "a5d89728-3edd-4dae-cc7b-0f52e18a1b02"
      },
      "execution_count": null,
      "outputs": [
        {
          "output_type": "stream",
          "name": "stdout",
          "text": [
            "S1-S2: {66, 20, 55}\n"
          ]
        }
      ]
    },
    {
      "cell_type": "markdown",
      "source": [
        "# **Q4. Write the following program.**\n",
        "\n"
      ],
      "metadata": {
        "id": "QPCUyVDgKdOs"
      }
    },
    {
      "cell_type": "markdown",
      "source": [
        "1.  WAP to print 100 random strings whose length between 6 and 8."
      ],
      "metadata": {
        "id": "xMfSMar-TkRM"
      }
    },
    {
      "cell_type": "code",
      "source": [
        "import random as rad\n",
        "import string as s\n",
        "\n",
        "print(\"100 Random Strings (length 6 to 8): \")\n",
        "for _ in range(100):\n",
        "    radstr = ''.join(rad.choices(s.ascii_letters, k=rad.randint(6, 8)))\n",
        "    print(radstr, end=\", \")"
      ],
      "metadata": {
        "colab": {
          "base_uri": "https://localhost:8080/"
        },
        "id": "fefxWo7LKoQy",
        "outputId": "5fa3319a-8ecf-4a25-e0bc-9adc955aa2ea"
      },
      "execution_count": null,
      "outputs": [
        {
          "output_type": "stream",
          "name": "stdout",
          "text": [
            "100 Random Strings (length 6 to 8): \n",
            "BwOleJ, nZUuHe, Pvjzeul, JOWQiR, ycvlHHz, aYNPrJjD, GpjLBU, uPGHhG, fCPMwQGt, yoCmHIP, tDdjmT, oGoBaA, FrXGiEk, RdVSknrG, KLEOKBhd, cpPKqd, MueRkx, wNITibPC, WERZJlBe, llPSrmnm, kHCuARS, OhNrMROt, fmpuASp, HrfdFou, SKLLMJ, ccfMBFqP, DeYPkqI, rLAvWcJo, sqkbRS, IpRSEDEM, HNxmBWL, eayMyG, HJrZVhm, oKDVnuiP, BIjOVq, wjwkTIQM, UnSHpP, MXpfhyIi, MYvsmE, qxFHxzh, fCaJPef, ObpWMC, GssbFd, wVwGBH, EaBxCBMB, iUmApv, zwbUTd, JCLNOLV, wTeEVObg, qlfFgcit, QWJpeE, xarQljon, tOLSGul, HRoTaEh, IiQLwZi, nRlbJEi, sBhwXN, GuMArpjZ, okaeYn, TEIzPJ, qgexpyn, tVjNae, enwzTr, ICVNap, SDGYpJET, AUZzkuJg, EmSguzd, sDLUjRD, mQkKip, IoAIYR, dMVmML, nzOcUefE, TacaOgkR, kWIuPt, ErfAYzbC, QpRbkTTv, KjAJVaq, PliIay, eFzElD, YFvpLD, EUJziI, fHrAjQ, WCGPAb, rDkqrSh, bQiPzHjx, EkiJoEn, tSNItru, IhzvHlN, wzUhVF, EDOFYmGY, muYKIn, YJZSFS, roBKwN, GBoKIL, NYvdLzLP, IsPIfP, kPinzZ, KnQfUg, PSgBtsQC, yEMmFsI, "
          ]
        }
      ]
    },
    {
      "cell_type": "markdown",
      "source": [
        "2.  WAP to print all prime numbers between 600 and 800.\n"
      ],
      "metadata": {
        "id": "omaQemxBLxvO"
      }
    },
    {
      "cell_type": "code",
      "source": [
        "import math as m\n",
        "def pn(n):\n",
        "    if n < 2:\n",
        "        return False\n",
        "    for x in range(2, int(m.sqrt(n)) + 1):\n",
        "        if n % x == 0:\n",
        "            return False\n",
        "    return True\n",
        "\n",
        "print(\"Prime numbers between 600 and 800:\")\n",
        "for i in range(600, 801):\n",
        "    if pn(i):\n",
        "        print(i, end=', ')"
      ],
      "metadata": {
        "colab": {
          "base_uri": "https://localhost:8080/"
        },
        "id": "MmtIXry1L3Eo",
        "outputId": "2efcf381-893b-49ee-ebec-608e0aed04df"
      },
      "execution_count": null,
      "outputs": [
        {
          "output_type": "stream",
          "name": "stdout",
          "text": [
            "Prime numbers between 600 and 800:\n",
            "601, 607, 613, 617, 619, 631, 641, 643, 647, 653, 659, 661, 673, 677, 683, 691, 701, 709, 719, 727, 733, 739, 743, 751, 757, 761, 769, 773, 787, 797, "
          ]
        }
      ]
    },
    {
      "cell_type": "markdown",
      "source": [
        "3.  WAP to print all numbers between 100 and 1000 that are divisible by 7 and 9."
      ],
      "metadata": {
        "id": "2AgmZPS5MQ82"
      }
    },
    {
      "cell_type": "code",
      "source": [
        "print(\"Numbers divisible by 7 and 9 between 100 and 1000:\")\n",
        "for i in range(100, 1001):\n",
        "    if i % 7 == 0 and i % 9 == 0:\n",
        "        print(i, end=', ')"
      ],
      "metadata": {
        "id": "lpfpk5pEMT80"
      },
      "execution_count": null,
      "outputs": []
    },
    {
      "cell_type": "markdown",
      "source": [
        "# **Q5. WAP to create two lists of 10 random numbers between 10 and 30; Find**\n",
        "\n"
      ],
      "metadata": {
        "id": "6wx_kwNAMp_Y"
      }
    },
    {
      "cell_type": "code",
      "source": [
        "import random as rad\n",
        "L1 = [rad.randint(10, 30) for _ in range(10)]\n",
        "L2 = [rad.randint(10, 30) for _ in range(10)]\n",
        "\n",
        "print(f\"List 1: {L1}\")\n",
        "print(f\"List 2: {L2}\")"
      ],
      "metadata": {
        "colab": {
          "base_uri": "https://localhost:8080/"
        },
        "id": "yhxGmavGNlld",
        "outputId": "8a7c2065-cf88-4af6-84f5-c673e2a68e01"
      },
      "execution_count": null,
      "outputs": [
        {
          "output_type": "stream",
          "name": "stdout",
          "text": [
            "List 1: [21, 16, 21, 27, 29, 12, 26, 24, 22, 16]\n",
            "List 2: [18, 25, 24, 27, 20, 23, 24, 18, 25, 28]\n"
          ]
        }
      ]
    },
    {
      "cell_type": "markdown",
      "source": [
        "1. Common numbers in the two lists"
      ],
      "metadata": {
        "id": "YUL_j4UtNggE"
      }
    },
    {
      "cell_type": "code",
      "source": [
        "L3=[]\n",
        "for i in L1:\n",
        "  if i in L2:\n",
        "    L3.append(i)\n",
        "print(f\"Common numbers in the two lists: {L3}\")"
      ],
      "metadata": {
        "colab": {
          "base_uri": "https://localhost:8080/"
        },
        "id": "K5RJ7SB0Na0a",
        "outputId": "5312c23d-286d-45cf-ee14-ff9794e8d3fa"
      },
      "execution_count": null,
      "outputs": [
        {
          "output_type": "stream",
          "name": "stdout",
          "text": [
            "Common numbers in the two lists: [27, 24]\n"
          ]
        }
      ]
    },
    {
      "cell_type": "markdown",
      "source": [
        "2. Unique numbers in both the list\n"
      ],
      "metadata": {
        "id": "4ZW4_p1OM_BR"
      }
    },
    {
      "cell_type": "code",
      "source": [
        "L3.clear()\n",
        "for i in L1:\n",
        "  if i not in L2:\n",
        "    L3.append(i)\n",
        "for i in L2:\n",
        "  if i not in L1:\n",
        "    L3.append(i)\n",
        "print(f\"Uncommon numbers in the two lists: {L3}\")"
      ],
      "metadata": {
        "colab": {
          "base_uri": "https://localhost:8080/"
        },
        "id": "MKXOEopUNbjM",
        "outputId": "1b8f73a0-58b2-459d-a6a5-6696583ccaac"
      },
      "execution_count": null,
      "outputs": [
        {
          "output_type": "stream",
          "name": "stdout",
          "text": [
            "Uncommon numbers in the two lists: [21, 16, 21, 29, 12, 26, 22, 16, 18, 25, 20, 23, 18, 25, 28]\n"
          ]
        }
      ]
    },
    {
      "cell_type": "markdown",
      "source": [
        "3. Minimum in both the list\n"
      ],
      "metadata": {
        "id": "fg9gFB0FM_ut"
      }
    },
    {
      "cell_type": "code",
      "source": [
        "print(f\"Minimum in List 1: {min(L1)}\")\n",
        "print(f\"Minimum in List 2: {min(L2)}\")"
      ],
      "metadata": {
        "colab": {
          "base_uri": "https://localhost:8080/"
        },
        "id": "ZRqFslhtNcas",
        "outputId": "a18e3976-2ce5-49d2-b05c-1350bb39b54e"
      },
      "execution_count": null,
      "outputs": [
        {
          "output_type": "stream",
          "name": "stdout",
          "text": [
            "Minimum in List 1: 12\n",
            "Minimum in List 2: 18\n"
          ]
        }
      ]
    },
    {
      "cell_type": "markdown",
      "source": [
        "4. Maximum in both the list\n"
      ],
      "metadata": {
        "id": "84ZEHowNNAL_"
      }
    },
    {
      "cell_type": "code",
      "source": [
        "print(f\"Maximum in List 1: {max(L1)}\")\n",
        "print(f\"Maximum in List 2: {max(L2)}\")"
      ],
      "metadata": {
        "colab": {
          "base_uri": "https://localhost:8080/"
        },
        "id": "YO_vXzGTNdEO",
        "outputId": "93f64475-bfda-45b8-f2b9-5c7e6389b93d"
      },
      "execution_count": null,
      "outputs": [
        {
          "output_type": "stream",
          "name": "stdout",
          "text": [
            "Maximum in List 1: 29\n",
            "Maximum in List 2: 28\n"
          ]
        }
      ]
    },
    {
      "cell_type": "markdown",
      "source": [
        "5. Sum of both the lists"
      ],
      "metadata": {
        "id": "WBOF-Mk1NAkk"
      }
    },
    {
      "cell_type": "code",
      "source": [
        "print(f\"Sum of list of 1: {sum(L1)}\")\n",
        "print(f\"Sum of list of 2: {sum(L2)}\")"
      ],
      "metadata": {
        "colab": {
          "base_uri": "https://localhost:8080/"
        },
        "id": "Zu6WDMoQNdtA",
        "outputId": "c378f4ae-09fa-4d45-e45b-5b30d307f072"
      },
      "execution_count": null,
      "outputs": [
        {
          "output_type": "stream",
          "name": "stdout",
          "text": [
            "Sum of list of 1: 214\n",
            "Sum of list of 2: 232\n"
          ]
        }
      ]
    },
    {
      "cell_type": "markdown",
      "source": [
        "# **Q6. WAP to create a list of 100 random numbers between 100 and 900. Count and print the:**\n",
        "\n"
      ],
      "metadata": {
        "id": "NYkeG7gaQxro"
      }
    },
    {
      "cell_type": "code",
      "source": [
        "import random as rad\n",
        "import math as m\n",
        "\n",
        "L = [rad.randint(100, 900) for _ in range(100)]\n",
        "print(\"100 random numbers:\")\n",
        "print(L)"
      ],
      "metadata": {
        "colab": {
          "base_uri": "https://localhost:8080/"
        },
        "id": "u4HMCkgVQ9No",
        "outputId": "5aad8985-abee-4d21-98f2-2a4032d1a530"
      },
      "execution_count": null,
      "outputs": [
        {
          "output_type": "stream",
          "name": "stdout",
          "text": [
            "100 random numbers:\n",
            "[174, 408, 689, 855, 870, 865, 224, 735, 531, 640, 161, 805, 471, 108, 730, 103, 686, 225, 333, 737, 674, 179, 310, 686, 371, 110, 834, 351, 520, 281, 482, 195, 842, 688, 779, 676, 103, 357, 802, 200, 728, 862, 431, 188, 108, 379, 181, 335, 470, 656, 589, 354, 786, 171, 860, 558, 742, 272, 812, 715, 395, 708, 210, 615, 778, 205, 657, 690, 516, 430, 607, 802, 810, 242, 281, 525, 536, 696, 105, 650, 646, 277, 477, 278, 721, 409, 183, 836, 254, 644, 193, 391, 696, 142, 641, 419, 507, 138, 395, 837]\n"
          ]
        }
      ]
    },
    {
      "cell_type": "markdown",
      "source": [
        "1. All odd numbers\n"
      ],
      "metadata": {
        "id": "3v7Rr36FQ9s_"
      }
    },
    {
      "cell_type": "code",
      "source": [
        "print(\"All ODD numbers in random list:-\")\n",
        "for i in L:\n",
        "  if i % 2 != 0:\n",
        "    print(i, end=', ')\n",
        "print(\"\\b\\b\")"
      ],
      "metadata": {
        "colab": {
          "base_uri": "https://localhost:8080/"
        },
        "id": "vMFstsaVQ_fY",
        "outputId": "def5a2b7-e02b-4f64-b135-2dc294b547fe"
      },
      "execution_count": null,
      "outputs": [
        {
          "output_type": "stream",
          "name": "stdout",
          "text": [
            "All ODD numbers in random list:-\n",
            "689, 855, 865, 735, 531, 161, 805, 471, 103, 225, 333, 737, 179, 371, 351, 281, 195, 779, 103, 357, 431, 379, 181, 335, 589, 171, 715, 395, 615, 205, 657, 607, 281, 525, 105, 277, 477, 721, 409, 183, 193, 391, 641, 419, 507, 395, 837, \b\b\n"
          ]
        }
      ]
    },
    {
      "cell_type": "markdown",
      "source": [
        "2. All even numbers\n"
      ],
      "metadata": {
        "id": "IW8S7FDyQ_5J"
      }
    },
    {
      "cell_type": "code",
      "source": [
        "print(\"All EVEN numbers in random list:-\")\n",
        "for i in L:\n",
        "  if i % 2 == 0:\n",
        "    print(i, end=', ')\n",
        "print(\"\\b\\b\")"
      ],
      "metadata": {
        "colab": {
          "base_uri": "https://localhost:8080/"
        },
        "id": "bwQwrzcgRCLS",
        "outputId": "0fc808b6-e9f7-4ba1-adb6-e6b2facedf8a"
      },
      "execution_count": null,
      "outputs": [
        {
          "output_type": "stream",
          "name": "stdout",
          "text": [
            "All EVEN numbers in random list:-\n",
            "174, 408, 870, 224, 640, 108, 730, 686, 674, 310, 686, 110, 834, 520, 482, 842, 688, 676, 802, 200, 728, 862, 188, 108, 470, 656, 354, 786, 860, 558, 742, 272, 812, 708, 210, 778, 690, 516, 430, 802, 810, 242, 536, 696, 650, 646, 278, 836, 254, 644, 696, 142, 138, \b\b\n"
          ]
        }
      ]
    },
    {
      "cell_type": "markdown",
      "source": [
        "3. All prime numbers"
      ],
      "metadata": {
        "id": "J45rY5y2RCkt"
      }
    },
    {
      "cell_type": "code",
      "source": [
        "def pn(n):\n",
        "    if n < 2:\n",
        "        return False\n",
        "    for x in range(2, int(m.sqrt(n)) + 1):\n",
        "        if n % x == 0:\n",
        "            return False\n",
        "    return True\n",
        "for i in L:\n",
        "  if pn(i) == True:\n",
        "    print(i, end=', ')\n",
        "print(\"\\b\\b\")"
      ],
      "metadata": {
        "colab": {
          "base_uri": "https://localhost:8080/"
        },
        "id": "M2TnJPbCRDPF",
        "outputId": "681d2b14-362e-408d-e0aa-b184249a6e52"
      },
      "execution_count": null,
      "outputs": [
        {
          "output_type": "stream",
          "name": "stdout",
          "text": [
            "103, 179, 281, 103, 431, 379, 181, 607, 281, 277, 409, 193, 641, 419, \b\b\n"
          ]
        }
      ]
    },
    {
      "cell_type": "markdown",
      "source": [
        "# **Q7. D is a dictionary defined as D={1:\"One\",2:\"Two\",3:\"Three\",4:\"Four\", 5:\"Five\"}.**\n",
        "\n",
        " WAP to read all the keys and values from dictionary and write to the file in the given below format.\n",
        "\n",
        "Key1, Value1\n",
        "\n",
        "Key2, Value2\n",
        "\n",
        "Key3, Value3\n"
      ],
      "metadata": {
        "id": "8xCVdk6pSbts"
      }
    },
    {
      "cell_type": "code",
      "source": [
        "D = {1: \"One\", 2: \"Two\", 3: \"Three\", 4: \"Four\", 5: \"Five\", 6:\"Six\"}\n",
        "\n",
        "fp = open(\"Dt.txt\", \"w\")\n",
        "for key, value in D.items():\n",
        "  fp.write(f\"{key}, {value}\\n\")\n",
        "fp.close()\n",
        "\n",
        "print(\"Dictionary has been written to 'Dt.txt' in the desired format.\")"
      ],
      "metadata": {
        "colab": {
          "base_uri": "https://localhost:8080/"
        },
        "id": "ygiBkI10SqmR",
        "outputId": "d7e645b0-f1ce-4fd9-a90e-6735457d5aa4"
      },
      "execution_count": null,
      "outputs": [
        {
          "output_type": "stream",
          "name": "stdout",
          "text": [
            "Dictionary has been written to 'Dt.txt' in the desired format.\n"
          ]
        }
      ]
    },
    {
      "cell_type": "markdown",
      "source": [
        "# **Q8. L is a list defined as L={\"One\",\"Two\",\"Three\",\"Four\",\"Five\"}.**\n",
        "\n",
        " WAP to count the length of reach element from a list and write to the file in the given below format:\n",
        "\n",
        "One, 3\n",
        "\n",
        "Two, 3\n",
        "\n",
        "Four, 4"
      ],
      "metadata": {
        "id": "CMgHyWtBTPy_"
      }
    },
    {
      "cell_type": "code",
      "source": [
        "L = [\"One\", \"Two\", \"Three\", \"Four\", \"Five\", \"Six\"]\n",
        "\n",
        "fp = open(\"Lt.txt\", \"w\")\n",
        "for ia in L:\n",
        "    fp.write(f\"{ia}, {len(ia)}\\n\")\n",
        "fp.close()\n",
        "\n",
        "print(\"Lengths written to 'Lt.txt' in the desired formar.\")"
      ],
      "metadata": {
        "colab": {
          "base_uri": "https://localhost:8080/"
        },
        "id": "SeFeDd2KT4MI",
        "outputId": "3fd22f99-fc13-4e44-f9bf-f59c9c560ea6"
      },
      "execution_count": null,
      "outputs": [
        {
          "output_type": "stream",
          "name": "stdout",
          "text": [
            "Lengths written to 'Lt.txt' in the desired formar.\n"
          ]
        }
      ]
    },
    {
      "cell_type": "markdown",
      "source": [
        "# **Q9. Write to the file 100 random strings whose length between 10 and 15**"
      ],
      "metadata": {
        "id": "kvxMZCh3U0Au"
      }
    },
    {
      "cell_type": "code",
      "source": [
        "import random as rad\n",
        "import string as s\n",
        "\n",
        "fp = open(\"Rs.txt\", \"w\")\n",
        "for _ in range(100):\n",
        "    radstr = ''.join(rad.choices(s.ascii_letters, k=rad.randint(10, 15)))\n",
        "    fp.write(f\"{radstr}\\n\")\n",
        "fp.close()\n",
        "\n",
        "print(\"100 random strings written to 'Rs.txt'.\")\n"
      ],
      "metadata": {
        "colab": {
          "base_uri": "https://localhost:8080/"
        },
        "id": "wTxI7sKzUyAb",
        "outputId": "cf746dc9-700c-45de-c01e-bcf5db6bd312"
      },
      "execution_count": null,
      "outputs": [
        {
          "output_type": "stream",
          "name": "stdout",
          "text": [
            "100 random strings written to 'Rs.txt'.\n"
          ]
        }
      ]
    },
    {
      "cell_type": "markdown",
      "source": [
        "# **Q10. Write to the file all prime numbers between 600 and 800.**"
      ],
      "metadata": {
        "id": "neht-VDQXZQF"
      }
    },
    {
      "cell_type": "code",
      "source": [
        "import math as m\n",
        "def pn(n):\n",
        "    if n < 2:\n",
        "        return False\n",
        "    for x in range(2, int(m.sqrt(n)) + 1):\n",
        "        if n % x == 0:\n",
        "            return False\n",
        "    return True\n",
        "\n",
        "fp = open(\"Pn.txt\", \"w\")\n",
        "for i in range(600, 801):\n",
        "    if pn(i):\n",
        "      fp.write(f\"{i}\\n\")\n",
        "fp.close()\n",
        "\n",
        "print(\"All prime numbers between 600 and 800 added to 'Pn.txt'.\")"
      ],
      "metadata": {
        "colab": {
          "base_uri": "https://localhost:8080/"
        },
        "id": "ASQGaNcwXdgW",
        "outputId": "2298a058-b9b0-473e-8c8e-2e8f0741dc14"
      },
      "execution_count": null,
      "outputs": [
        {
          "output_type": "stream",
          "name": "stdout",
          "text": [
            "All prime numbers between 600 and 800 added to 'Pn.txt'.\n"
          ]
        }
      ]
    },
    {
      "cell_type": "markdown",
      "source": [
        "# **Q11. WAP to calculate the time taken by a program.**\n"
      ],
      "metadata": {
        "id": "Pe-hxOXhYIEb"
      }
    },
    {
      "cell_type": "code",
      "source": [
        "import time as t\n",
        "t1 = t.time()\n",
        "for j in range(99999):\n",
        "  x=[1 for i in range(9999)]\n",
        "t2 = t.time()\n",
        "print(f\"Time taken: {t2-t1} seconds\")"
      ],
      "metadata": {
        "id": "dQ4rFZ_PYTh7",
        "colab": {
          "base_uri": "https://localhost:8080/"
        },
        "outputId": "b6d2009d-edcc-4f34-e22e-a8cbde2f51f0"
      },
      "execution_count": null,
      "outputs": [
        {
          "output_type": "stream",
          "name": "stdout",
          "text": [
            "Time taken: 28.97098135948181 seconds\n"
          ]
        }
      ]
    },
    {
      "cell_type": "markdown",
      "source": [
        "# **Q12. WAP to sort following number of elements in a list, calculate time taken and plot the graph.**\n",
        "Number of elements in list Time Taken\n",
        "\n",
        "5k T1\n",
        "\n",
        "10k T2\n",
        "\n",
        "15k T3\n",
        "\n",
        "20k T4\n",
        "\n",
        "25k T5"
      ],
      "metadata": {
        "id": "fQlrkZSvOA85"
      }
    },
    {
      "cell_type": "code",
      "source": [
        "import time as t\n",
        "import random as rad\n",
        "import seaborn as sns"
      ],
      "metadata": {
        "id": "wN-5oYEqOa9G"
      },
      "execution_count": null,
      "outputs": []
    },
    {
      "cell_type": "markdown",
      "source": [
        "1. Time taken to sort a list with 5,000 elemets."
      ],
      "metadata": {
        "id": "JpYRipSjO7ZT"
      }
    },
    {
      "cell_type": "code",
      "source": [
        "L1 = [rad.randint(0,25000) for _ in range(5000)]\n",
        "t11 = t.time()\n",
        "L1.sort()\n",
        "t12 = t.time()\n",
        "T1 = t12-t11\n",
        "print(f\"Time taken to sort a list of 5,000 elements: {T1} seconds\")"
      ],
      "metadata": {
        "colab": {
          "base_uri": "https://localhost:8080/"
        },
        "id": "Dnlr8OqZPA0l",
        "outputId": "159f8050-88f7-4c09-849d-32b13e620074"
      },
      "execution_count": null,
      "outputs": [
        {
          "output_type": "stream",
          "name": "stdout",
          "text": [
            "Time taken to sort a list of 5,000 elements: 0.00090789794921875 seconds\n"
          ]
        }
      ]
    },
    {
      "cell_type": "markdown",
      "source": [
        "2. Time taken to sort 10,000 elements."
      ],
      "metadata": {
        "id": "cLVZTn6sPtKP"
      }
    },
    {
      "cell_type": "code",
      "source": [
        "L2 = [rad.randint(0,25000) for _ in range(10000)]\n",
        "t21 = t.time()\n",
        "L2.sort()\n",
        "t22 = t.time()\n",
        "T2 = t22-t21\n",
        "print(f\"Time taken to sort a list of 10,000 elements: {T2} seconds\")"
      ],
      "metadata": {
        "colab": {
          "base_uri": "https://localhost:8080/"
        },
        "id": "Kf9PmWbHP0NG",
        "outputId": "1b6385f3-e1a8-4c4f-b028-5e7506e2b413"
      },
      "execution_count": null,
      "outputs": [
        {
          "output_type": "stream",
          "name": "stdout",
          "text": [
            "Time taken to sort a list of 10,000 elements: 0.0017986297607421875 seconds\n"
          ]
        }
      ]
    },
    {
      "cell_type": "markdown",
      "source": [
        "3. Time taken to sort 15,000 elements."
      ],
      "metadata": {
        "id": "X_hKODquPs9M"
      }
    },
    {
      "cell_type": "code",
      "source": [
        "L3 = [rad.randint(0,25000) for _ in range(15000)]\n",
        "t31 = t.time()\n",
        "L3.sort()\n",
        "t32 = t.time()\n",
        "T3 = t32-t31\n",
        "print(f\"Time taken to sort a list of 15,000 elements: {T3} seconds\")"
      ],
      "metadata": {
        "colab": {
          "base_uri": "https://localhost:8080/"
        },
        "id": "xPnBEYrgP7xS",
        "outputId": "ac2538c1-cd49-42ac-b2f7-210f8b921bd8"
      },
      "execution_count": null,
      "outputs": [
        {
          "output_type": "stream",
          "name": "stdout",
          "text": [
            "Time taken to sort a list of 15,000 elements: 0.003018617630004883 seconds\n"
          ]
        }
      ]
    },
    {
      "cell_type": "markdown",
      "source": [
        "4. Time taken to sort 20,000 elements."
      ],
      "metadata": {
        "id": "mVxEkKB0Pr0Z"
      }
    },
    {
      "cell_type": "code",
      "source": [
        "L4 = [rad.randint(0,25000) for _ in range(20000)]\n",
        "t41 = t.time()\n",
        "L4.sort()\n",
        "t42 = t.time()\n",
        "T4 = t42-t41\n",
        "print(f\"Time taken to sort a list of 20,000 elements: {T4} seconds\")"
      ],
      "metadata": {
        "colab": {
          "base_uri": "https://localhost:8080/"
        },
        "id": "s1p2yF5RQBC9",
        "outputId": "ccf1697f-e88a-45c3-eebb-3f749b5d2be1"
      },
      "execution_count": null,
      "outputs": [
        {
          "output_type": "stream",
          "name": "stdout",
          "text": [
            "Time taken to sort a list of 20,000 elements: 0.004241943359375 seconds\n"
          ]
        }
      ]
    },
    {
      "cell_type": "markdown",
      "source": [
        "5. Time taken to sort 25,000 elements."
      ],
      "metadata": {
        "id": "xWqxbSIKPqAo"
      }
    },
    {
      "cell_type": "code",
      "source": [
        "L5 = [rad.randint(0,25000) for _ in range(25000)]\n",
        "t51 = t.time()\n",
        "L5.sort()\n",
        "t52 = t.time()\n",
        "T5 = t52-t51\n",
        "print(f\"Time taken to sort a list of 25,000 elements: {T5} seconds\")"
      ],
      "metadata": {
        "colab": {
          "base_uri": "https://localhost:8080/"
        },
        "id": "TrBokFWgQFdj",
        "outputId": "e80ae9e8-26ea-4a18-ebcd-72a13b3cc4d7"
      },
      "execution_count": null,
      "outputs": [
        {
          "output_type": "stream",
          "name": "stdout",
          "text": [
            "Time taken to sort a list of 25,000 elements: 0.0050923824310302734 seconds\n"
          ]
        }
      ]
    },
    {
      "cell_type": "markdown",
      "source": [
        "Graph for number of elements vs time taken."
      ],
      "metadata": {
        "id": "rKtwycWYR_dM"
      }
    },
    {
      "cell_type": "code",
      "source": [
        "x=[len(L1),len(L2),len(L3),len(L4),len(L5)]\n",
        "y=[T1,T2,T3,T4,T5]\n",
        "sns.lineplot(x=x,y=y)"
      ],
      "metadata": {
        "colab": {
          "base_uri": "https://localhost:8080/",
          "height": 447
        },
        "id": "7xFU8tAsSGdI",
        "outputId": "9a0f0a42-33f6-4200-e7a5-6c96e41c93bc"
      },
      "execution_count": null,
      "outputs": [
        {
          "output_type": "execute_result",
          "data": {
            "text/plain": [
              "<Axes: >"
            ]
          },
          "metadata": {},
          "execution_count": 75
        },
        {
          "output_type": "display_data",
          "data": {
            "text/plain": [
              "<Figure size 640x480 with 1 Axes>"
            ],
            "image/png": "[encoded data removed]"
          },
          "metadata": {}
        }
      ]
    },
    {
      "cell_type": "markdown",
      "source": [
        "# **Q13. create a dictionary of student marks in five subjects and you have to find the student having maximum and minimum average marks.**"
      ],
      "metadata": {
        "id": "3CW3zVeFTX6f"
      }
    },
    {
      "cell_type": "code",
      "source": [
        "import random as r\n",
        "StML={\"John\":[rad.randint(0,100) for _ in range(5)],\n",
        "      \"Cena\":[rad.randint(0,100) for _ in range(5)],\n",
        "      \"Mark\":[rad.randint(0,100) for _ in range(5)],\n",
        "      \"Nolan\":[rad.randint(0,100) for _ in range(5)],\n",
        "      \"CHristopher\":[rad.randint(0,100) for _ in range(5)]}\n",
        "print(StML)\n",
        "\n",
        "StAL={}\n",
        "for name, marks in StML.items():\n",
        "    avg = sum(marks) / len(marks)\n",
        "    StAL[name]= avg\n",
        "\n",
        "MaxSM = max(StAL, key=StAL.get)\n",
        "MinSM = min(StAL, key=StAL.get)\n",
        "\n",
        "print(f\"Student with maximum average marks: {MaxSM}({StAL[MaxSM]})\")\n",
        "print(f\"Student with minimum average marks: {MinSM}({StAL[MinSM]})\")"
      ],
      "metadata": {
        "colab": {
          "base_uri": "https://localhost:8080/"
        },
        "id": "l1vP0qAITgHR",
        "outputId": "bc45d2ec-c772-469f-f0cf-abeda858fbe6"
      },
      "execution_count": null,
      "outputs": [
        {
          "output_type": "stream",
          "name": "stdout",
          "text": [
            "{'John': [87, 48, 61, 48, 39], 'Cena': [55, 67, 42, 100, 57], 'Mark': [44, 92, 47, 91, 63], 'Nolan': [95, 0, 99, 34, 73], 'CHristopher': [40, 64, 55, 3, 79]}\n",
            "Student with maximum average marks: Mark(67.4)\n",
            "Student with minimum average marks: CHristopher(48.2)\n"
          ]
        }
      ]
    }
  ]
}